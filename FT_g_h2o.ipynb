{
 "cells": [
  {
   "cell_type": "markdown",
   "metadata": {},
   "source": [
    "- frc/pos/vel file:\n",
    "    - no. atoms\n",
    "    - timestep no, time, energy\n",
    "    - atom id, x, y, z component of frc/pos/vel\n",
    "    - repeat\n",
    "- init.pdb"
   ]
  },
  {
   "cell_type": "markdown",
   "metadata": {},
   "source": [
    "### Create xyz file with energies, positions and forces"
   ]
  },
  {
   "cell_type": "code",
   "execution_count": null,
   "metadata": {},
   "outputs": [],
   "source": [
    "from ase import io\n",
    "import numpy as np"
   ]
  },
  {
   "cell_type": "markdown",
   "metadata": {},
   "source": [
    "Test on one example"
   ]
  },
  {
   "cell_type": "code",
   "execution_count": 84,
   "metadata": {},
   "outputs": [],
   "source": [
    "pos1 = io.read('c-h2o/m12_n12_lange_aggro-pos-1.xyz', index='0')\n",
    "frc1 = io.read('c-h2o/m12_n12_lange_aggro-frc-1.xyz', index='0')"
   ]
  },
  {
   "cell_type": "code",
   "execution_count": 85,
   "metadata": {},
   "outputs": [],
   "source": [
    "frc2 = io.read('c-h2o/m12_n12_lange_aggro-frc-1.xyz', index=1)"
   ]
  },
  {
   "cell_type": "code",
   "execution_count": null,
   "metadata": {},
   "outputs": [
    {
     "data": {
      "text/plain": [
       "Atoms(symbols='C288H130O65', pbc=False)"
      ]
     },
     "execution_count": 33,
     "metadata": {},
     "output_type": "execute_result"
    }
   ],
   "source": [
    "pos1"
   ]
  },
  {
   "cell_type": "code",
   "execution_count": null,
   "metadata": {},
   "outputs": [
    {
     "name": "stdout",
     "output_type": "stream",
     "text": [
      "{'i': 2801, 'time': 2801.0, 'E': -2760.4892690757}\n"
     ]
    }
   ],
   "source": [
    "print(pos1.info)"
   ]
  },
  {
   "cell_type": "code",
   "execution_count": null,
   "metadata": {},
   "outputs": [],
   "source": [
    "pos1.set_cell(np.array([[26.341, 0, 0],[0, 26.341, 0],[0, 0, 14.819]]))"
   ]
  },
  {
   "cell_type": "code",
   "execution_count": null,
   "metadata": {},
   "outputs": [
    {
     "data": {
      "text/plain": [
       "array([[-0.15785514,  0.80445088, -0.0683274 ],\n",
       "       [ 0.10425984,  0.42702012,  0.80572148],\n",
       "       [ 0.10465208, -1.36328091,  1.68661655],\n",
       "       ...,\n",
       "       [-0.11764501, -0.58360758, -1.53331323],\n",
       "       [ 0.2573427 ,  0.77072382,  0.92609915],\n",
       "       [ 0.18674235, -0.07566125,  0.60699077]])"
      ]
     },
     "execution_count": 42,
     "metadata": {},
     "output_type": "execute_result"
    }
   ],
   "source": [
    "frc1.get_positions()"
   ]
  },
  {
   "cell_type": "code",
   "execution_count": null,
   "metadata": {},
   "outputs": [],
   "source": [
    "pos1.set_array('forces', frc.get_positions())"
   ]
  },
  {
   "cell_type": "code",
   "execution_count": null,
   "metadata": {},
   "outputs": [
    {
     "data": {
      "text/plain": [
       "array([[-0.15785514,  0.80445088, -0.0683274 ],\n",
       "       [ 0.10425984,  0.42702012,  0.80572148],\n",
       "       [ 0.10465208, -1.36328091,  1.68661655],\n",
       "       ...,\n",
       "       [-0.11764501, -0.58360758, -1.53331323],\n",
       "       [ 0.2573427 ,  0.77072382,  0.92609915],\n",
       "       [ 0.18674235, -0.07566125,  0.60699077]])"
      ]
     },
     "execution_count": 44,
     "metadata": {},
     "output_type": "execute_result"
    }
   ],
   "source": [
    "pos1.get_array('forces')"
   ]
  },
  {
   "cell_type": "code",
   "execution_count": null,
   "metadata": {},
   "outputs": [],
   "source": [
    "pos1.set_pbc([True, True, True])"
   ]
  },
  {
   "cell_type": "code",
   "execution_count": null,
   "metadata": {},
   "outputs": [],
   "source": [
    "io.write(\"test.xyz\", pos1)"
   ]
  },
  {
   "cell_type": "code",
   "execution_count": 75,
   "metadata": {},
   "outputs": [],
   "source": [
    "pos1 = io.read('c-h2o/m12_n12_lange_aggro-pos-1.xyz', index=str(1))\n",
    "frc1 = io.read('c-h2o/m12_n12_lange_aggro-frc-1.xyz', index=str(1))\n",
    "pos1.set_cell(np.array([[26.341, 0, 0],[0, 26.341, 0],[0, 0, 14.819]]))\n",
    "pos1.set_array('forces', frc1.get_positions())\n",
    "pos1.set_pbc([True, True, True])"
   ]
  },
  {
   "cell_type": "code",
   "execution_count": 82,
   "metadata": {},
   "outputs": [
    {
     "data": {
      "text/plain": [
       "array([[-0.23923343,  0.9676642 , -0.19535211],\n",
       "       [ 0.10417801,  0.37953577,  0.73581644],\n",
       "       [ 0.23021526, -1.37329947,  1.95345345],\n",
       "       ...,\n",
       "       [-0.15318008, -0.92955321, -0.88518534],\n",
       "       [ 0.25901186,  0.81599329,  0.81476721],\n",
       "       [ 0.22317319,  0.30660271,  0.05873493]])"
      ]
     },
     "execution_count": 82,
     "metadata": {},
     "output_type": "execute_result"
    }
   ],
   "source": [
    "frc1.get_positions()"
   ]
  },
  {
   "cell_type": "code",
   "execution_count": 77,
   "metadata": {},
   "outputs": [
    {
     "data": {
      "text/plain": [
       "Atoms(symbols='C288H130O65', pbc=True, cell=[26.341, 26.341, 14.819], forces=...)"
      ]
     },
     "execution_count": 77,
     "metadata": {},
     "output_type": "execute_result"
    }
   ],
   "source": [
    "pos1"
   ]
  },
  {
   "cell_type": "code",
   "execution_count": 76,
   "metadata": {},
   "outputs": [
    {
     "data": {
      "text/plain": [
       "array([[-0.23923343,  0.9676642 , -0.19535211],\n",
       "       [ 0.10417801,  0.37953577,  0.73581644],\n",
       "       [ 0.23021526, -1.37329947,  1.95345345],\n",
       "       ...,\n",
       "       [-0.15318008, -0.92955321, -0.88518534],\n",
       "       [ 0.25901186,  0.81599329,  0.81476721],\n",
       "       [ 0.22317319,  0.30660271,  0.05873493]])"
      ]
     },
     "execution_count": 76,
     "metadata": {},
     "output_type": "execute_result"
    }
   ],
   "source": [
    "pos1.get_array('forces')"
   ]
  },
  {
   "cell_type": "code",
   "execution_count": null,
   "metadata": {},
   "outputs": [],
   "source": []
  },
  {
   "cell_type": "code",
   "execution_count": null,
   "metadata": {},
   "outputs": [],
   "source": []
  },
  {
   "cell_type": "markdown",
   "metadata": {},
   "source": [
    "### Randomly sample 500 structures - g-h2o\n",
    "- the dataset contains tens of thousands of structures so its better to sample these before merging the files than merging and then sampling to save computational effort"
   ]
  },
  {
   "cell_type": "code",
   "execution_count": 55,
   "metadata": {},
   "outputs": [
    {
     "name": "stdout",
     "output_type": "stream",
     "text": [
      "No. configurations =  122977.0\n"
     ]
    }
   ],
   "source": [
    "len_pos_xyz = 59643845 / (483+2)\n",
    "print(\"No. configurations = \", len_pos_xyz)"
   ]
  },
  {
   "cell_type": "code",
   "execution_count": 62,
   "metadata": {},
   "outputs": [],
   "source": [
    "import random\n",
    "\n",
    "sampled_atom_idx = random.sample(range(int(len_pos_xyz)), 200)"
   ]
  },
  {
   "cell_type": "code",
   "execution_count": 130,
   "metadata": {},
   "outputs": [],
   "source": [
    "# save sampled atom indices\n",
    "np.save('sampled_atom_idx.npy', sampled_atom_idx)"
   ]
  },
  {
   "cell_type": "code",
   "execution_count": 131,
   "metadata": {},
   "outputs": [],
   "source": [
    "sampled_atom_idx = np.load('sampled_atom_idx.npy')"
   ]
  },
  {
   "cell_type": "code",
   "execution_count": 63,
   "metadata": {},
   "outputs": [],
   "source": [
    "atoms_list = []\n",
    "for i in sampled_atom_idx:\n",
    "    pos = io.read('c-h2o/m12_n12_lange_aggro-pos-1.xyz', index=str(i))\n",
    "    frc = io.read('c-h2o/m12_n12_lange_aggro-frc-1.xyz', index=str(i))\n",
    "    pos.set_cell(np.array([[26.341, 0, 0],[0, 26.341, 0],[0, 0, 14.819]]))\n",
    "    pos.set_array('forces', frc.get_positions())\n",
    "    pos.set_pbc([True, True, True])\n",
    "    atoms_list.append(pos)"
   ]
  },
  {
   "cell_type": "code",
   "execution_count": 65,
   "metadata": {},
   "outputs": [],
   "source": [
    "io.write(\"sampled_dataset_200.xyz\", atoms_list)"
   ]
  },
  {
   "cell_type": "code",
   "execution_count": 66,
   "metadata": {},
   "outputs": [],
   "source": [
    "sampled_dataset_200 = io.read(\"sampled_dataset_200.xyz\", index=':')"
   ]
  },
  {
   "cell_type": "code",
   "execution_count": 67,
   "metadata": {},
   "outputs": [
    {
     "data": {
      "text/plain": [
       "[Atoms(symbols='C288H130O65', pbc=True, cell=[26.341, 26.341, 14.819], calculator=SinglePointCalculator(...)),\n",
       " Atoms(symbols='C288H130O65', pbc=True, cell=[26.341, 26.341, 14.819], calculator=SinglePointCalculator(...)),\n",
       " Atoms(symbols='C288H130O65', pbc=True, cell=[26.341, 26.341, 14.819], calculator=SinglePointCalculator(...)),\n",
       " Atoms(symbols='C288H130O65', pbc=True, cell=[26.341, 26.341, 14.819], calculator=SinglePointCalculator(...)),\n",
       " Atoms(symbols='C288H130O65', pbc=True, cell=[26.341, 26.341, 14.819], calculator=SinglePointCalculator(...)),\n",
       " Atoms(symbols='C288H130O65', pbc=True, cell=[26.341, 26.341, 14.819], calculator=SinglePointCalculator(...)),\n",
       " Atoms(symbols='C288H130O65', pbc=True, cell=[26.341, 26.341, 14.819], calculator=SinglePointCalculator(...)),\n",
       " Atoms(symbols='C288H130O65', pbc=True, cell=[26.341, 26.341, 14.819], calculator=SinglePointCalculator(...)),\n",
       " Atoms(symbols='C288H130O65', pbc=True, cell=[26.341, 26.341, 14.819], calculator=SinglePointCalculator(...)),\n",
       " Atoms(symbols='C288H130O65', pbc=True, cell=[26.341, 26.341, 14.819], calculator=SinglePointCalculator(...)),\n",
       " Atoms(symbols='C288H130O65', pbc=True, cell=[26.341, 26.341, 14.819], calculator=SinglePointCalculator(...)),\n",
       " Atoms(symbols='C288H130O65', pbc=True, cell=[26.341, 26.341, 14.819], calculator=SinglePointCalculator(...)),\n",
       " Atoms(symbols='C288H130O65', pbc=True, cell=[26.341, 26.341, 14.819], calculator=SinglePointCalculator(...)),\n",
       " Atoms(symbols='C288H130O65', pbc=True, cell=[26.341, 26.341, 14.819], calculator=SinglePointCalculator(...)),\n",
       " Atoms(symbols='C288H130O65', pbc=True, cell=[26.341, 26.341, 14.819], calculator=SinglePointCalculator(...)),\n",
       " Atoms(symbols='C288H130O65', pbc=True, cell=[26.341, 26.341, 14.819], calculator=SinglePointCalculator(...)),\n",
       " Atoms(symbols='C288H130O65', pbc=True, cell=[26.341, 26.341, 14.819], calculator=SinglePointCalculator(...)),\n",
       " Atoms(symbols='C288H130O65', pbc=True, cell=[26.341, 26.341, 14.819], calculator=SinglePointCalculator(...)),\n",
       " Atoms(symbols='C288H130O65', pbc=True, cell=[26.341, 26.341, 14.819], calculator=SinglePointCalculator(...)),\n",
       " Atoms(symbols='C288H130O65', pbc=True, cell=[26.341, 26.341, 14.819], calculator=SinglePointCalculator(...)),\n",
       " Atoms(symbols='C288H130O65', pbc=True, cell=[26.341, 26.341, 14.819], calculator=SinglePointCalculator(...)),\n",
       " Atoms(symbols='C288H130O65', pbc=True, cell=[26.341, 26.341, 14.819], calculator=SinglePointCalculator(...)),\n",
       " Atoms(symbols='C288H130O65', pbc=True, cell=[26.341, 26.341, 14.819], calculator=SinglePointCalculator(...)),\n",
       " Atoms(symbols='C288H130O65', pbc=True, cell=[26.341, 26.341, 14.819], calculator=SinglePointCalculator(...)),\n",
       " Atoms(symbols='C288H130O65', pbc=True, cell=[26.341, 26.341, 14.819], calculator=SinglePointCalculator(...)),\n",
       " Atoms(symbols='C288H130O65', pbc=True, cell=[26.341, 26.341, 14.819], calculator=SinglePointCalculator(...)),\n",
       " Atoms(symbols='C288H130O65', pbc=True, cell=[26.341, 26.341, 14.819], calculator=SinglePointCalculator(...)),\n",
       " Atoms(symbols='C288H130O65', pbc=True, cell=[26.341, 26.341, 14.819], calculator=SinglePointCalculator(...)),\n",
       " Atoms(symbols='C288H130O65', pbc=True, cell=[26.341, 26.341, 14.819], calculator=SinglePointCalculator(...)),\n",
       " Atoms(symbols='C288H130O65', pbc=True, cell=[26.341, 26.341, 14.819], calculator=SinglePointCalculator(...)),\n",
       " Atoms(symbols='C288H130O65', pbc=True, cell=[26.341, 26.341, 14.819], calculator=SinglePointCalculator(...)),\n",
       " Atoms(symbols='C288H130O65', pbc=True, cell=[26.341, 26.341, 14.819], calculator=SinglePointCalculator(...)),\n",
       " Atoms(symbols='C288H130O65', pbc=True, cell=[26.341, 26.341, 14.819], calculator=SinglePointCalculator(...)),\n",
       " Atoms(symbols='C288H130O65', pbc=True, cell=[26.341, 26.341, 14.819], calculator=SinglePointCalculator(...)),\n",
       " Atoms(symbols='C288H130O65', pbc=True, cell=[26.341, 26.341, 14.819], calculator=SinglePointCalculator(...)),\n",
       " Atoms(symbols='C288H130O65', pbc=True, cell=[26.341, 26.341, 14.819], calculator=SinglePointCalculator(...)),\n",
       " Atoms(symbols='C288H130O65', pbc=True, cell=[26.341, 26.341, 14.819], calculator=SinglePointCalculator(...)),\n",
       " Atoms(symbols='C288H130O65', pbc=True, cell=[26.341, 26.341, 14.819], calculator=SinglePointCalculator(...)),\n",
       " Atoms(symbols='C288H130O65', pbc=True, cell=[26.341, 26.341, 14.819], calculator=SinglePointCalculator(...)),\n",
       " Atoms(symbols='C288H130O65', pbc=True, cell=[26.341, 26.341, 14.819], calculator=SinglePointCalculator(...)),\n",
       " Atoms(symbols='C288H130O65', pbc=True, cell=[26.341, 26.341, 14.819], calculator=SinglePointCalculator(...)),\n",
       " Atoms(symbols='C288H130O65', pbc=True, cell=[26.341, 26.341, 14.819], calculator=SinglePointCalculator(...)),\n",
       " Atoms(symbols='C288H130O65', pbc=True, cell=[26.341, 26.341, 14.819], calculator=SinglePointCalculator(...)),\n",
       " Atoms(symbols='C288H130O65', pbc=True, cell=[26.341, 26.341, 14.819], calculator=SinglePointCalculator(...)),\n",
       " Atoms(symbols='C288H130O65', pbc=True, cell=[26.341, 26.341, 14.819], calculator=SinglePointCalculator(...)),\n",
       " Atoms(symbols='C288H130O65', pbc=True, cell=[26.341, 26.341, 14.819], calculator=SinglePointCalculator(...)),\n",
       " Atoms(symbols='C288H130O65', pbc=True, cell=[26.341, 26.341, 14.819], calculator=SinglePointCalculator(...)),\n",
       " Atoms(symbols='C288H130O65', pbc=True, cell=[26.341, 26.341, 14.819], calculator=SinglePointCalculator(...)),\n",
       " Atoms(symbols='C288H130O65', pbc=True, cell=[26.341, 26.341, 14.819], calculator=SinglePointCalculator(...)),\n",
       " Atoms(symbols='C288H130O65', pbc=True, cell=[26.341, 26.341, 14.819], calculator=SinglePointCalculator(...)),\n",
       " Atoms(symbols='C288H130O65', pbc=True, cell=[26.341, 26.341, 14.819], calculator=SinglePointCalculator(...)),\n",
       " Atoms(symbols='C288H130O65', pbc=True, cell=[26.341, 26.341, 14.819], calculator=SinglePointCalculator(...)),\n",
       " Atoms(symbols='C288H130O65', pbc=True, cell=[26.341, 26.341, 14.819], calculator=SinglePointCalculator(...)),\n",
       " Atoms(symbols='C288H130O65', pbc=True, cell=[26.341, 26.341, 14.819], calculator=SinglePointCalculator(...)),\n",
       " Atoms(symbols='C288H130O65', pbc=True, cell=[26.341, 26.341, 14.819], calculator=SinglePointCalculator(...)),\n",
       " Atoms(symbols='C288H130O65', pbc=True, cell=[26.341, 26.341, 14.819], calculator=SinglePointCalculator(...)),\n",
       " Atoms(symbols='C288H130O65', pbc=True, cell=[26.341, 26.341, 14.819], calculator=SinglePointCalculator(...)),\n",
       " Atoms(symbols='C288H130O65', pbc=True, cell=[26.341, 26.341, 14.819], calculator=SinglePointCalculator(...)),\n",
       " Atoms(symbols='C288H130O65', pbc=True, cell=[26.341, 26.341, 14.819], calculator=SinglePointCalculator(...)),\n",
       " Atoms(symbols='C288H130O65', pbc=True, cell=[26.341, 26.341, 14.819], calculator=SinglePointCalculator(...)),\n",
       " Atoms(symbols='C288H130O65', pbc=True, cell=[26.341, 26.341, 14.819], calculator=SinglePointCalculator(...)),\n",
       " Atoms(symbols='C288H130O65', pbc=True, cell=[26.341, 26.341, 14.819], calculator=SinglePointCalculator(...)),\n",
       " Atoms(symbols='C288H130O65', pbc=True, cell=[26.341, 26.341, 14.819], calculator=SinglePointCalculator(...)),\n",
       " Atoms(symbols='C288H130O65', pbc=True, cell=[26.341, 26.341, 14.819], calculator=SinglePointCalculator(...)),\n",
       " Atoms(symbols='C288H130O65', pbc=True, cell=[26.341, 26.341, 14.819], calculator=SinglePointCalculator(...)),\n",
       " Atoms(symbols='C288H130O65', pbc=True, cell=[26.341, 26.341, 14.819], calculator=SinglePointCalculator(...)),\n",
       " Atoms(symbols='C288H130O65', pbc=True, cell=[26.341, 26.341, 14.819], calculator=SinglePointCalculator(...)),\n",
       " Atoms(symbols='C288H130O65', pbc=True, cell=[26.341, 26.341, 14.819], calculator=SinglePointCalculator(...)),\n",
       " Atoms(symbols='C288H130O65', pbc=True, cell=[26.341, 26.341, 14.819], calculator=SinglePointCalculator(...)),\n",
       " Atoms(symbols='C288H130O65', pbc=True, cell=[26.341, 26.341, 14.819], calculator=SinglePointCalculator(...)),\n",
       " Atoms(symbols='C288H130O65', pbc=True, cell=[26.341, 26.341, 14.819], calculator=SinglePointCalculator(...)),\n",
       " Atoms(symbols='C288H130O65', pbc=True, cell=[26.341, 26.341, 14.819], calculator=SinglePointCalculator(...)),\n",
       " Atoms(symbols='C288H130O65', pbc=True, cell=[26.341, 26.341, 14.819], calculator=SinglePointCalculator(...)),\n",
       " Atoms(symbols='C288H130O65', pbc=True, cell=[26.341, 26.341, 14.819], calculator=SinglePointCalculator(...)),\n",
       " Atoms(symbols='C288H130O65', pbc=True, cell=[26.341, 26.341, 14.819], calculator=SinglePointCalculator(...)),\n",
       " Atoms(symbols='C288H130O65', pbc=True, cell=[26.341, 26.341, 14.819], calculator=SinglePointCalculator(...)),\n",
       " Atoms(symbols='C288H130O65', pbc=True, cell=[26.341, 26.341, 14.819], calculator=SinglePointCalculator(...)),\n",
       " Atoms(symbols='C288H130O65', pbc=True, cell=[26.341, 26.341, 14.819], calculator=SinglePointCalculator(...)),\n",
       " Atoms(symbols='C288H130O65', pbc=True, cell=[26.341, 26.341, 14.819], calculator=SinglePointCalculator(...)),\n",
       " Atoms(symbols='C288H130O65', pbc=True, cell=[26.341, 26.341, 14.819], calculator=SinglePointCalculator(...)),\n",
       " Atoms(symbols='C288H130O65', pbc=True, cell=[26.341, 26.341, 14.819], calculator=SinglePointCalculator(...)),\n",
       " Atoms(symbols='C288H130O65', pbc=True, cell=[26.341, 26.341, 14.819], calculator=SinglePointCalculator(...)),\n",
       " Atoms(symbols='C288H130O65', pbc=True, cell=[26.341, 26.341, 14.819], calculator=SinglePointCalculator(...)),\n",
       " Atoms(symbols='C288H130O65', pbc=True, cell=[26.341, 26.341, 14.819], calculator=SinglePointCalculator(...)),\n",
       " Atoms(symbols='C288H130O65', pbc=True, cell=[26.341, 26.341, 14.819], calculator=SinglePointCalculator(...)),\n",
       " Atoms(symbols='C288H130O65', pbc=True, cell=[26.341, 26.341, 14.819], calculator=SinglePointCalculator(...)),\n",
       " Atoms(symbols='C288H130O65', pbc=True, cell=[26.341, 26.341, 14.819], calculator=SinglePointCalculator(...)),\n",
       " Atoms(symbols='C288H130O65', pbc=True, cell=[26.341, 26.341, 14.819], calculator=SinglePointCalculator(...)),\n",
       " Atoms(symbols='C288H130O65', pbc=True, cell=[26.341, 26.341, 14.819], calculator=SinglePointCalculator(...)),\n",
       " Atoms(symbols='C288H130O65', pbc=True, cell=[26.341, 26.341, 14.819], calculator=SinglePointCalculator(...)),\n",
       " Atoms(symbols='C288H130O65', pbc=True, cell=[26.341, 26.341, 14.819], calculator=SinglePointCalculator(...)),\n",
       " Atoms(symbols='C288H130O65', pbc=True, cell=[26.341, 26.341, 14.819], calculator=SinglePointCalculator(...)),\n",
       " Atoms(symbols='C288H130O65', pbc=True, cell=[26.341, 26.341, 14.819], calculator=SinglePointCalculator(...)),\n",
       " Atoms(symbols='C288H130O65', pbc=True, cell=[26.341, 26.341, 14.819], calculator=SinglePointCalculator(...)),\n",
       " Atoms(symbols='C288H130O65', pbc=True, cell=[26.341, 26.341, 14.819], calculator=SinglePointCalculator(...)),\n",
       " Atoms(symbols='C288H130O65', pbc=True, cell=[26.341, 26.341, 14.819], calculator=SinglePointCalculator(...)),\n",
       " Atoms(symbols='C288H130O65', pbc=True, cell=[26.341, 26.341, 14.819], calculator=SinglePointCalculator(...)),\n",
       " Atoms(symbols='C288H130O65', pbc=True, cell=[26.341, 26.341, 14.819], calculator=SinglePointCalculator(...)),\n",
       " Atoms(symbols='C288H130O65', pbc=True, cell=[26.341, 26.341, 14.819], calculator=SinglePointCalculator(...)),\n",
       " Atoms(symbols='C288H130O65', pbc=True, cell=[26.341, 26.341, 14.819], calculator=SinglePointCalculator(...)),\n",
       " Atoms(symbols='C288H130O65', pbc=True, cell=[26.341, 26.341, 14.819], calculator=SinglePointCalculator(...)),\n",
       " Atoms(symbols='C288H130O65', pbc=True, cell=[26.341, 26.341, 14.819], calculator=SinglePointCalculator(...)),\n",
       " Atoms(symbols='C288H130O65', pbc=True, cell=[26.341, 26.341, 14.819], calculator=SinglePointCalculator(...)),\n",
       " Atoms(symbols='C288H130O65', pbc=True, cell=[26.341, 26.341, 14.819], calculator=SinglePointCalculator(...)),\n",
       " Atoms(symbols='C288H130O65', pbc=True, cell=[26.341, 26.341, 14.819], calculator=SinglePointCalculator(...)),\n",
       " Atoms(symbols='C288H130O65', pbc=True, cell=[26.341, 26.341, 14.819], calculator=SinglePointCalculator(...)),\n",
       " Atoms(symbols='C288H130O65', pbc=True, cell=[26.341, 26.341, 14.819], calculator=SinglePointCalculator(...)),\n",
       " Atoms(symbols='C288H130O65', pbc=True, cell=[26.341, 26.341, 14.819], calculator=SinglePointCalculator(...)),\n",
       " Atoms(symbols='C288H130O65', pbc=True, cell=[26.341, 26.341, 14.819], calculator=SinglePointCalculator(...)),\n",
       " Atoms(symbols='C288H130O65', pbc=True, cell=[26.341, 26.341, 14.819], calculator=SinglePointCalculator(...)),\n",
       " Atoms(symbols='C288H130O65', pbc=True, cell=[26.341, 26.341, 14.819], calculator=SinglePointCalculator(...)),\n",
       " Atoms(symbols='C288H130O65', pbc=True, cell=[26.341, 26.341, 14.819], calculator=SinglePointCalculator(...)),\n",
       " Atoms(symbols='C288H130O65', pbc=True, cell=[26.341, 26.341, 14.819], calculator=SinglePointCalculator(...)),\n",
       " Atoms(symbols='C288H130O65', pbc=True, cell=[26.341, 26.341, 14.819], calculator=SinglePointCalculator(...)),\n",
       " Atoms(symbols='C288H130O65', pbc=True, cell=[26.341, 26.341, 14.819], calculator=SinglePointCalculator(...)),\n",
       " Atoms(symbols='C288H130O65', pbc=True, cell=[26.341, 26.341, 14.819], calculator=SinglePointCalculator(...)),\n",
       " Atoms(symbols='C288H130O65', pbc=True, cell=[26.341, 26.341, 14.819], calculator=SinglePointCalculator(...)),\n",
       " Atoms(symbols='C288H130O65', pbc=True, cell=[26.341, 26.341, 14.819], calculator=SinglePointCalculator(...)),\n",
       " Atoms(symbols='C288H130O65', pbc=True, cell=[26.341, 26.341, 14.819], calculator=SinglePointCalculator(...)),\n",
       " Atoms(symbols='C288H130O65', pbc=True, cell=[26.341, 26.341, 14.819], calculator=SinglePointCalculator(...)),\n",
       " Atoms(symbols='C288H130O65', pbc=True, cell=[26.341, 26.341, 14.819], calculator=SinglePointCalculator(...)),\n",
       " Atoms(symbols='C288H130O65', pbc=True, cell=[26.341, 26.341, 14.819], calculator=SinglePointCalculator(...)),\n",
       " Atoms(symbols='C288H130O65', pbc=True, cell=[26.341, 26.341, 14.819], calculator=SinglePointCalculator(...)),\n",
       " Atoms(symbols='C288H130O65', pbc=True, cell=[26.341, 26.341, 14.819], calculator=SinglePointCalculator(...)),\n",
       " Atoms(symbols='C288H130O65', pbc=True, cell=[26.341, 26.341, 14.819], calculator=SinglePointCalculator(...)),\n",
       " Atoms(symbols='C288H130O65', pbc=True, cell=[26.341, 26.341, 14.819], calculator=SinglePointCalculator(...)),\n",
       " Atoms(symbols='C288H130O65', pbc=True, cell=[26.341, 26.341, 14.819], calculator=SinglePointCalculator(...)),\n",
       " Atoms(symbols='C288H130O65', pbc=True, cell=[26.341, 26.341, 14.819], calculator=SinglePointCalculator(...)),\n",
       " Atoms(symbols='C288H130O65', pbc=True, cell=[26.341, 26.341, 14.819], calculator=SinglePointCalculator(...)),\n",
       " Atoms(symbols='C288H130O65', pbc=True, cell=[26.341, 26.341, 14.819], calculator=SinglePointCalculator(...)),\n",
       " Atoms(symbols='C288H130O65', pbc=True, cell=[26.341, 26.341, 14.819], calculator=SinglePointCalculator(...)),\n",
       " Atoms(symbols='C288H130O65', pbc=True, cell=[26.341, 26.341, 14.819], calculator=SinglePointCalculator(...)),\n",
       " Atoms(symbols='C288H130O65', pbc=True, cell=[26.341, 26.341, 14.819], calculator=SinglePointCalculator(...)),\n",
       " Atoms(symbols='C288H130O65', pbc=True, cell=[26.341, 26.341, 14.819], calculator=SinglePointCalculator(...)),\n",
       " Atoms(symbols='C288H130O65', pbc=True, cell=[26.341, 26.341, 14.819], calculator=SinglePointCalculator(...)),\n",
       " Atoms(symbols='C288H130O65', pbc=True, cell=[26.341, 26.341, 14.819], calculator=SinglePointCalculator(...)),\n",
       " Atoms(symbols='C288H130O65', pbc=True, cell=[26.341, 26.341, 14.819], calculator=SinglePointCalculator(...)),\n",
       " Atoms(symbols='C288H130O65', pbc=True, cell=[26.341, 26.341, 14.819], calculator=SinglePointCalculator(...)),\n",
       " Atoms(symbols='C288H130O65', pbc=True, cell=[26.341, 26.341, 14.819], calculator=SinglePointCalculator(...)),\n",
       " Atoms(symbols='C288H130O65', pbc=True, cell=[26.341, 26.341, 14.819], calculator=SinglePointCalculator(...)),\n",
       " Atoms(symbols='C288H130O65', pbc=True, cell=[26.341, 26.341, 14.819], calculator=SinglePointCalculator(...)),\n",
       " Atoms(symbols='C288H130O65', pbc=True, cell=[26.341, 26.341, 14.819], calculator=SinglePointCalculator(...)),\n",
       " Atoms(symbols='C288H130O65', pbc=True, cell=[26.341, 26.341, 14.819], calculator=SinglePointCalculator(...)),\n",
       " Atoms(symbols='C288H130O65', pbc=True, cell=[26.341, 26.341, 14.819], calculator=SinglePointCalculator(...)),\n",
       " Atoms(symbols='C288H130O65', pbc=True, cell=[26.341, 26.341, 14.819], calculator=SinglePointCalculator(...)),\n",
       " Atoms(symbols='C288H130O65', pbc=True, cell=[26.341, 26.341, 14.819], calculator=SinglePointCalculator(...)),\n",
       " Atoms(symbols='C288H130O65', pbc=True, cell=[26.341, 26.341, 14.819], calculator=SinglePointCalculator(...)),\n",
       " Atoms(symbols='C288H130O65', pbc=True, cell=[26.341, 26.341, 14.819], calculator=SinglePointCalculator(...)),\n",
       " Atoms(symbols='C288H130O65', pbc=True, cell=[26.341, 26.341, 14.819], calculator=SinglePointCalculator(...)),\n",
       " Atoms(symbols='C288H130O65', pbc=True, cell=[26.341, 26.341, 14.819], calculator=SinglePointCalculator(...)),\n",
       " Atoms(symbols='C288H130O65', pbc=True, cell=[26.341, 26.341, 14.819], calculator=SinglePointCalculator(...)),\n",
       " Atoms(symbols='C288H130O65', pbc=True, cell=[26.341, 26.341, 14.819], calculator=SinglePointCalculator(...)),\n",
       " Atoms(symbols='C288H130O65', pbc=True, cell=[26.341, 26.341, 14.819], calculator=SinglePointCalculator(...)),\n",
       " Atoms(symbols='C288H130O65', pbc=True, cell=[26.341, 26.341, 14.819], calculator=SinglePointCalculator(...)),\n",
       " Atoms(symbols='C288H130O65', pbc=True, cell=[26.341, 26.341, 14.819], calculator=SinglePointCalculator(...)),\n",
       " Atoms(symbols='C288H130O65', pbc=True, cell=[26.341, 26.341, 14.819], calculator=SinglePointCalculator(...)),\n",
       " Atoms(symbols='C288H130O65', pbc=True, cell=[26.341, 26.341, 14.819], calculator=SinglePointCalculator(...)),\n",
       " Atoms(symbols='C288H130O65', pbc=True, cell=[26.341, 26.341, 14.819], calculator=SinglePointCalculator(...)),\n",
       " Atoms(symbols='C288H130O65', pbc=True, cell=[26.341, 26.341, 14.819], calculator=SinglePointCalculator(...)),\n",
       " Atoms(symbols='C288H130O65', pbc=True, cell=[26.341, 26.341, 14.819], calculator=SinglePointCalculator(...)),\n",
       " Atoms(symbols='C288H130O65', pbc=True, cell=[26.341, 26.341, 14.819], calculator=SinglePointCalculator(...)),\n",
       " Atoms(symbols='C288H130O65', pbc=True, cell=[26.341, 26.341, 14.819], calculator=SinglePointCalculator(...)),\n",
       " Atoms(symbols='C288H130O65', pbc=True, cell=[26.341, 26.341, 14.819], calculator=SinglePointCalculator(...)),\n",
       " Atoms(symbols='C288H130O65', pbc=True, cell=[26.341, 26.341, 14.819], calculator=SinglePointCalculator(...)),\n",
       " Atoms(symbols='C288H130O65', pbc=True, cell=[26.341, 26.341, 14.819], calculator=SinglePointCalculator(...)),\n",
       " Atoms(symbols='C288H130O65', pbc=True, cell=[26.341, 26.341, 14.819], calculator=SinglePointCalculator(...)),\n",
       " Atoms(symbols='C288H130O65', pbc=True, cell=[26.341, 26.341, 14.819], calculator=SinglePointCalculator(...)),\n",
       " Atoms(symbols='C288H130O65', pbc=True, cell=[26.341, 26.341, 14.819], calculator=SinglePointCalculator(...)),\n",
       " Atoms(symbols='C288H130O65', pbc=True, cell=[26.341, 26.341, 14.819], calculator=SinglePointCalculator(...)),\n",
       " Atoms(symbols='C288H130O65', pbc=True, cell=[26.341, 26.341, 14.819], calculator=SinglePointCalculator(...)),\n",
       " Atoms(symbols='C288H130O65', pbc=True, cell=[26.341, 26.341, 14.819], calculator=SinglePointCalculator(...)),\n",
       " Atoms(symbols='C288H130O65', pbc=True, cell=[26.341, 26.341, 14.819], calculator=SinglePointCalculator(...)),\n",
       " Atoms(symbols='C288H130O65', pbc=True, cell=[26.341, 26.341, 14.819], calculator=SinglePointCalculator(...)),\n",
       " Atoms(symbols='C288H130O65', pbc=True, cell=[26.341, 26.341, 14.819], calculator=SinglePointCalculator(...)),\n",
       " Atoms(symbols='C288H130O65', pbc=True, cell=[26.341, 26.341, 14.819], calculator=SinglePointCalculator(...)),\n",
       " Atoms(symbols='C288H130O65', pbc=True, cell=[26.341, 26.341, 14.819], calculator=SinglePointCalculator(...)),\n",
       " Atoms(symbols='C288H130O65', pbc=True, cell=[26.341, 26.341, 14.819], calculator=SinglePointCalculator(...)),\n",
       " Atoms(symbols='C288H130O65', pbc=True, cell=[26.341, 26.341, 14.819], calculator=SinglePointCalculator(...)),\n",
       " Atoms(symbols='C288H130O65', pbc=True, cell=[26.341, 26.341, 14.819], calculator=SinglePointCalculator(...)),\n",
       " Atoms(symbols='C288H130O65', pbc=True, cell=[26.341, 26.341, 14.819], calculator=SinglePointCalculator(...)),\n",
       " Atoms(symbols='C288H130O65', pbc=True, cell=[26.341, 26.341, 14.819], calculator=SinglePointCalculator(...)),\n",
       " Atoms(symbols='C288H130O65', pbc=True, cell=[26.341, 26.341, 14.819], calculator=SinglePointCalculator(...)),\n",
       " Atoms(symbols='C288H130O65', pbc=True, cell=[26.341, 26.341, 14.819], calculator=SinglePointCalculator(...)),\n",
       " Atoms(symbols='C288H130O65', pbc=True, cell=[26.341, 26.341, 14.819], calculator=SinglePointCalculator(...)),\n",
       " Atoms(symbols='C288H130O65', pbc=True, cell=[26.341, 26.341, 14.819], calculator=SinglePointCalculator(...)),\n",
       " Atoms(symbols='C288H130O65', pbc=True, cell=[26.341, 26.341, 14.819], calculator=SinglePointCalculator(...)),\n",
       " Atoms(symbols='C288H130O65', pbc=True, cell=[26.341, 26.341, 14.819], calculator=SinglePointCalculator(...)),\n",
       " Atoms(symbols='C288H130O65', pbc=True, cell=[26.341, 26.341, 14.819], calculator=SinglePointCalculator(...)),\n",
       " Atoms(symbols='C288H130O65', pbc=True, cell=[26.341, 26.341, 14.819], calculator=SinglePointCalculator(...)),\n",
       " Atoms(symbols='C288H130O65', pbc=True, cell=[26.341, 26.341, 14.819], calculator=SinglePointCalculator(...)),\n",
       " Atoms(symbols='C288H130O65', pbc=True, cell=[26.341, 26.341, 14.819], calculator=SinglePointCalculator(...)),\n",
       " Atoms(symbols='C288H130O65', pbc=True, cell=[26.341, 26.341, 14.819], calculator=SinglePointCalculator(...)),\n",
       " Atoms(symbols='C288H130O65', pbc=True, cell=[26.341, 26.341, 14.819], calculator=SinglePointCalculator(...)),\n",
       " Atoms(symbols='C288H130O65', pbc=True, cell=[26.341, 26.341, 14.819], calculator=SinglePointCalculator(...)),\n",
       " Atoms(symbols='C288H130O65', pbc=True, cell=[26.341, 26.341, 14.819], calculator=SinglePointCalculator(...)),\n",
       " Atoms(symbols='C288H130O65', pbc=True, cell=[26.341, 26.341, 14.819], calculator=SinglePointCalculator(...)),\n",
       " Atoms(symbols='C288H130O65', pbc=True, cell=[26.341, 26.341, 14.819], calculator=SinglePointCalculator(...)),\n",
       " Atoms(symbols='C288H130O65', pbc=True, cell=[26.341, 26.341, 14.819], calculator=SinglePointCalculator(...)),\n",
       " Atoms(symbols='C288H130O65', pbc=True, cell=[26.341, 26.341, 14.819], calculator=SinglePointCalculator(...)),\n",
       " Atoms(symbols='C288H130O65', pbc=True, cell=[26.341, 26.341, 14.819], calculator=SinglePointCalculator(...))]"
      ]
     },
     "execution_count": 67,
     "metadata": {},
     "output_type": "execute_result"
    }
   ],
   "source": [
    "sampled_dataset_200"
   ]
  },
  {
   "cell_type": "code",
   "execution_count": 123,
   "metadata": {},
   "outputs": [
    {
     "data": {
      "text/plain": [
       "array([[ 0.42909584, -2.72894669, -1.03472715],\n",
       "       [-1.02263867,  0.75467332,  0.05177561],\n",
       "       [-1.30053213,  1.10356744,  1.84503179],\n",
       "       ...,\n",
       "       [-0.75285653, -0.09111667,  0.20564839],\n",
       "       [ 0.48558501, -0.45733806, -0.44822117],\n",
       "       [-0.10203428, -0.16180811,  0.19245631]])"
      ]
     },
     "execution_count": 123,
     "metadata": {},
     "output_type": "execute_result"
    }
   ],
   "source": [
    "sampled_dataset_200[0].get_forces()"
   ]
  },
  {
   "cell_type": "markdown",
   "metadata": {},
   "source": [
    "### Validation set\n",
    "- randomly select 100 structures from the sampled data set\n",
    "- then create training sets from the remaining structures"
   ]
  },
  {
   "cell_type": "code",
   "execution_count": null,
   "metadata": {},
   "outputs": [],
   "source": [
    "val_random_idx = random.sample(sampled_atom_idx, 100)\n",
    "\n",
    "validation_set_100 = []\n",
    "for i in val_random_idx:\n",
    "    validation_set_100.append(sampled_dataset_200[i])"
   ]
  },
  {
   "cell_type": "code",
   "execution_count": null,
   "metadata": {},
   "outputs": [],
   "source": [
    "io.write(\"validation_set_100.xyz\", validation_set_100)"
   ]
  },
  {
   "cell_type": "code",
   "execution_count": 126,
   "metadata": {},
   "outputs": [],
   "source": [
    "validation_set_100 = io.read(\"validation_set_100.xyz\", index=':')"
   ]
  },
  {
   "cell_type": "markdown",
   "metadata": {},
   "source": [
    "Training sets"
   ]
  },
  {
   "cell_type": "code",
   "execution_count": null,
   "metadata": {},
   "outputs": [],
   "source": [
    "# 10\n",
    "training_set_10 = []\n",
    "for i in range(len(sampled_atom_idx)):\n",
    "    if i not in val_random_idx:\n",
    "        training_set_10.append(sampled_dataset_200[i])\n",
    "\n",
    "# 20\n",
    "training_set_20 = []\n",
    "for i in range(len(sampled_atom_idx)):\n",
    "    if i not in val_random_idx:\n",
    "        training_set_20.append(sampled_dataset_200[i])\n",
    "        \n",
    "# 30\n",
    "training_set_30 = []\n",
    "for i in range(len(sampled_atom_idx)):\n",
    "    if i not in val_random_idx:\n",
    "        training_set_30.append(sampled_dataset_200[i])\n",
    "        \n",
    "# 50\n",
    "training_set_50 = []\n",
    "for i in range(len(sampled_atom_idx)):\n",
    "    if i not in val_random_idx:\n",
    "        training_set_50.append(sampled_dataset_200[i])\n",
    "\n",
    "# 100\n",
    "training_set_100 = []\n",
    "for i in range(len(sampled_atom_idx)):\n",
    "    if i not in val_random_idx:\n",
    "        training_set_100.append(sampled_dataset_200[i])"
   ]
  },
  {
   "cell_type": "code",
   "execution_count": 139,
   "metadata": {},
   "outputs": [],
   "source": [
    "io.write(\"train_10.xyz\", training_set_10)\n",
    "io.write(\"train_20.xyz\", training_set_20)\n",
    "io.write(\"train_30.xyz\", training_set_30)\n",
    "io.write(\"train_50.xyz\", training_set_50)\n",
    "io.write(\"train_100.xyz\", training_set_100)"
   ]
  },
  {
   "cell_type": "code",
   "execution_count": null,
   "metadata": {},
   "outputs": [],
   "source": []
  }
 ],
 "metadata": {
  "kernelspec": {
   "display_name": "venv_mace",
   "language": "python",
   "name": "python3"
  },
  "language_info": {
   "codemirror_mode": {
    "name": "ipython",
    "version": 3
   },
   "file_extension": ".py",
   "mimetype": "text/x-python",
   "name": "python",
   "nbconvert_exporter": "python",
   "pygments_lexer": "ipython3",
   "version": "3.12.9"
  }
 },
 "nbformat": 4,
 "nbformat_minor": 2
}
